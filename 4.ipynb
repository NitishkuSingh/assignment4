{
 "cells": [
  {
   "cell_type": "markdown",
   "id": "4a9bd657-3611-4370-a0da-ba4540a3c232",
   "metadata": {},
   "source": [
    "Question - 1"
   ]
  },
  {
   "cell_type": "markdown",
   "id": "ff3bc4b8-a990-4b8a-a05c-e7d087c9e5c6",
   "metadata": {},
   "source": [
    "In object-oriented programming (OOP), a class is a blueprint or template for creating objects. It defines the properties (attributes) and behaviors (methods) that objects of that class will have. Essentially, a class defines a new type of data."
   ]
  },
  {
   "cell_type": "markdown",
   "id": "3a128860-f1cb-47f8-a33d-8d095132ecda",
   "metadata": {},
   "source": [
    "Question - 2"
   ]
  },
  {
   "cell_type": "markdown",
   "id": "8da4af4b-8d7a-4eae-8d7d-5d26a7d33c95",
   "metadata": {},
   "source": [
    "1. Encapsulation\n",
    "2. Inheritance\n",
    "3. Polymorphism\n",
    "4. Abstraction"
   ]
  },
  {
   "cell_type": "markdown",
   "id": "b050965c-8f7a-4dac-bd61-2cc0964fe9d4",
   "metadata": {},
   "source": [
    "Question - 3"
   ]
  },
  {
   "cell_type": "markdown",
   "id": "e27648b0-f260-40c9-bfdd-809feeb3dea4",
   "metadata": {},
   "source": [
    "1. We define a Person class with an __init__() method that takes name and age as parameters.\n",
    "2. Inside the __init__() method, we initialize the name and age attributes of the object (self) with the values passed during object creation."
   ]
  },
  {
   "cell_type": "code",
   "execution_count": 3,
   "id": "7fa35cc0-1dab-407f-a80f-e99caa9129e7",
   "metadata": {},
   "outputs": [
    {
     "name": "stdout",
     "output_type": "stream",
     "text": [
      "Name: Alice, Age: 30\n",
      "Name: Bob, Age: 25\n"
     ]
    }
   ],
   "source": [
    "class Person:\n",
    "    def __init__(self, name, age):\n",
    "        self.name = name\n",
    "        self.age = age\n",
    "\n",
    "    def display_info(self):\n",
    "        print(f\"Name: {self.name}, Age: {self.age}\")\n",
    "person1 = Person(\"Alice\", 30)\n",
    "person2 = Person(\"Bob\", 25)\n",
    "person1.display_info()\n",
    "person2.display_info()"
   ]
  },
  {
   "cell_type": "markdown",
   "id": "082fbb5a-93d9-482c-9edb-edc6e9a06957",
   "metadata": {},
   "source": [
    "Question - 4"
   ]
  },
  {
   "cell_type": "markdown",
   "id": "1da6984f-7d9e-40c3-bbf3-55611da91681",
   "metadata": {},
   "source": [
    "In object-oriented programming (OOP), self is a convention used to refer to the current instance of a class within its methods. It is a way for a method to access and modify the attributes (data members) and call other methods of the same object."
   ]
  },
  {
   "cell_type": "markdown",
   "id": "9c01db31-285c-4eb6-bd18-57696a7e2b21",
   "metadata": {},
   "source": [
    "Question - 5"
   ]
  },
  {
   "cell_type": "markdown",
   "id": "25f4bb5f-706d-4713-8e69-5eb60a2bf3a1",
   "metadata": {},
   "source": [
    "Inheritance is a fundamental concept in object-oriented programming (OOP) where a new class (subclass or derived class) is created based on an existing class (superclass or base class)."
   ]
  },
  {
   "cell_type": "code",
   "execution_count": null,
   "id": "18d32a67-bd02-400a-b519-78eddf0c0ada",
   "metadata": {},
   "outputs": [],
   "source": []
  }
 ],
 "metadata": {
  "kernelspec": {
   "display_name": "Python 3 (ipykernel)",
   "language": "python",
   "name": "python3"
  },
  "language_info": {
   "codemirror_mode": {
    "name": "ipython",
    "version": 3
   },
   "file_extension": ".py",
   "mimetype": "text/x-python",
   "name": "python",
   "nbconvert_exporter": "python",
   "pygments_lexer": "ipython3",
   "version": "3.10.8"
  }
 },
 "nbformat": 4,
 "nbformat_minor": 5
}
